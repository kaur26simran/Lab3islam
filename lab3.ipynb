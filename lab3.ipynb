{
 "cells": [
  {
   "cell_type": "code",
   "execution_count": 37,
   "metadata": {},
   "outputs": [],
   "source": [
    "import numpy as np"
   ]
  },
  {
   "cell_type": "code",
   "execution_count": 38,
   "metadata": {},
   "outputs": [],
   "source": [
    "def no_zeros(arrayInput):\n",
    "    ## TODO: This function should return True if \n",
    "    ## numpy array arrayInput does not contain any zero\n",
    "    ## and will return False otherwise.\n",
    "    ## Implement this function using ONLY numpy methods\n",
    "    ## Sample input: [1,2,3,4,5,6,0] Sample Output: False\n",
    "    x = np.all(arrayInput)\n",
    "    return x"
   ]
  },
  {
   "cell_type": "code",
   "execution_count": 39,
   "metadata": {},
   "outputs": [
    {
     "name": "stdout",
     "output_type": "stream",
     "text": [
      "True\n"
     ]
    }
   ],
   "source": [
    "x = np.array([34, 56, 89, 23, 69, 980,567])\n",
    "print(no_zeros(x))"
   ]
  },
  {
   "cell_type": "code",
   "execution_count": 40,
   "metadata": {},
   "outputs": [
    {
     "name": "stdout",
     "output_type": "stream",
     "text": [
      "False\n"
     ]
    }
   ],
   "source": [
    "x = np.array([34, 56, 89, 23, 69, 980,567, 0])\n",
    "print(no_zeros(x))"
   ]
  },
  {
   "cell_type": "code",
   "execution_count": 41,
   "metadata": {},
   "outputs": [],
   "source": [
    "def linearly_distributed(n, min, max):\n",
    "    ## TODO: This function should return a numpy array of\n",
    "    ## length n with equally spaced elements from\n",
    "    ## min (inclusive) to max (exclusive)\n",
    "    ## Implement this function using ONLY numpy methods\n",
    "    ## Sample input: (4,0,100) sample output [0,33,66, 99]\n",
    "    x = np.linspace(min, max, n)\n",
    "    return x\n",
    "    #return np.array({})\n",
    "\n",
    "    #ref: https://realpython.com/np-linspace-numpy/\n"
   ]
  },
  {
   "cell_type": "code",
   "execution_count": 42,
   "metadata": {},
   "outputs": [
    {
     "name": "stdout",
     "output_type": "stream",
     "text": [
      "[  0.          33.33333333  66.66666667 100.        ]\n"
     ]
    }
   ],
   "source": [
    "min = 0\n",
    "max = 100\n",
    "n = 4\n",
    "print(linearly_distributed(n, min,max))"
   ]
  },
  {
   "cell_type": "code",
   "execution_count": 43,
   "metadata": {},
   "outputs": [],
   "source": [
    "def two_dimensions(n):\n",
    "    ## TODO: This function should create a 2d Array of shape n*n\n",
    "    ## Where the borders of the array are ones\n",
    "    ## all other elements are zero\n",
    "    ## Implement this function using ONLY numpy methods\n",
    "    ## Sample input 3\n",
    "    ## sample output [[1,1,1],[1,0,1],[1,1,1]]\n",
    "    x = np.ones((n,n))\n",
    "    x[1:-1, 1:-1] = 0\n",
    "    #return np.array({})\n",
    "    return x\n",
    "    #reference: https://www.w3resource.com/python-exercises/numpy/python-numpy-exercise-8.php"
   ]
  },
  {
   "cell_type": "code",
   "execution_count": 44,
   "metadata": {},
   "outputs": [
    {
     "name": "stdout",
     "output_type": "stream",
     "text": [
      "[[1. 1. 1. 1. 1.]\n",
      " [1. 0. 0. 0. 1.]\n",
      " [1. 0. 0. 0. 1.]\n",
      " [1. 0. 0. 0. 1.]\n",
      " [1. 1. 1. 1. 1.]]\n"
     ]
    }
   ],
   "source": [
    "n = 5\n",
    "print(two_dimensions(n))"
   ]
  },
  {
   "cell_type": "code",
   "execution_count": 45,
   "metadata": {},
   "outputs": [],
   "source": [
    "def create_array(n,min,max):\n",
    "    ## TODO: This function should return a numpy array of\n",
    "    ## length n with random elements from\n",
    "    ## min (inclusive) to max (exclusive)\n",
    "    ## Implement this function using ONLY numpy methods\n",
    "    ## USE np.random.rand for generating the numbers\n",
    "    ## Sample Input (10,0,10) sample output(0,2,2,3,1,5,9,7,8,3)\n",
    "    y = np.random.randint(min, max, n)\n",
    "    return y\n",
    "    #return np.array({})\n",
    "\n",
    "#Reference: https://www.programiz.com/python-programming/numpy/random#:~:text=Generate%20Random%20Array%20in%20NumPy\n"
   ]
  },
  {
   "cell_type": "code",
   "execution_count": 46,
   "metadata": {},
   "outputs": [
    {
     "name": "stdout",
     "output_type": "stream",
     "text": [
      "[1 8 2 9 6 1 4 9 7 3 8 1 1 2 1 2 9 3 8 5]\n"
     ]
    }
   ],
   "source": [
    "min = 1\n",
    "max = 10\n",
    "n = 20\n",
    "# x = np.ones(n)\n",
    "# print(x)\n",
    "# x[0:n] = np.random.randint(min,max)\n",
    "# #np.random.randint(1,10)\n",
    "# print(x)\n",
    "\n",
    "\n",
    "print(create_array(n,min,max))"
   ]
  },
  {
   "cell_type": "code",
   "execution_count": 47,
   "metadata": {},
   "outputs": [],
   "source": [
    "def random_generation(n,min,max):\n",
    "    ## TODO: Write a function that takes as an input\n",
    "    ## Dimension of 2d Array n, min and max\n",
    "    ## Generate an n*n array with random numbers between\n",
    "    ## min and max inclusive\n",
    "    ## Such that no element is duplicated\n",
    "    ## return numpy array\n",
    "    ## Implement this function using ONLY numpy methods\n",
    "    ## Sample Input: random_generation(3,0,12) --> [[4,2,6],[1,5,11],[10, 3,9]]\n",
    "\n",
    "    array = np.random.choice(np.arange(start = min, stop = max+1 , step = 1), size = (n,n), replace=False)\n",
    "    return array\n",
    "\n",
    "    #return np.array({})\n",
    "    #https://numpy.org/doc/stable/reference/random/generated/numpy.random.choice.html"
   ]
  },
  {
   "cell_type": "code",
   "execution_count": 48,
   "metadata": {},
   "outputs": [
    {
     "name": "stdout",
     "output_type": "stream",
     "text": [
      "[[3 1]\n",
      " [2 5]]\n"
     ]
    }
   ],
   "source": [
    "min = 1\n",
    "max = 6\n",
    "n = 2\n",
    "# x = np.ones(n)\n",
    "# print(x)\n",
    "# x[0:n] = np.random.randint(min,max)\n",
    "# #np.random.randint(1,10)\n",
    "# print(x)\n",
    "\n",
    "\n",
    "print(random_generation(n,min,max))"
   ]
  },
  {
   "cell_type": "code",
   "execution_count": null,
   "metadata": {},
   "outputs": [],
   "source": []
  }
 ],
 "metadata": {
  "kernelspec": {
   "display_name": "Python 3",
   "language": "python",
   "name": "python3"
  },
  "language_info": {
   "codemirror_mode": {
    "name": "ipython",
    "version": 3
   },
   "file_extension": ".py",
   "mimetype": "text/x-python",
   "name": "python",
   "nbconvert_exporter": "python",
   "pygments_lexer": "ipython3",
   "version": "3.11.7"
  }
 },
 "nbformat": 4,
 "nbformat_minor": 2
}
